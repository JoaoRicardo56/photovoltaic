{
 "cells": [
  {
   "cell_type": "code",
   "execution_count": 2,
   "metadata": {},
   "outputs": [],
   "source": [
    "import photovoltaic as pv\n",
    "import numpy as np"
   ]
  },
  {
   "cell_type": "code",
   "execution_count": 3,
   "metadata": {},
   "outputs": [
    {
     "name": "stdout",
     "output_type": "stream",
     "text": [
      "Thermal voltage 25 degC (V): 0.02569257041324195\n",
      "Thermal voltage 300 K (V): 0.02585199102456007\n",
      "Silicon ni at 25 degC 8.305e+09 cm-3\n",
      "Silicon ni at 300 K 9.696e+09 cm-3\n",
      "n-type cell with doping level of 2e15\n"
     ]
    },
    {
     "ename": "AttributeError",
     "evalue": "module 'photovoltaic.si' has no attribute 'equilibrium_carrier'",
     "output_type": "error",
     "traceback": [
      "\u001b[1;31m---------------------------------------------------------------------------\u001b[0m",
      "\u001b[1;31mAttributeError\u001b[0m                            Traceback (most recent call last)",
      "\u001b[1;32m<ipython-input-3-67c5e5725b6d>\u001b[0m in \u001b[0;36m<module>\u001b[1;34m()\u001b[0m\n\u001b[0;32m      6\u001b[0m \u001b[0mprint\u001b[0m\u001b[1;33m(\u001b[0m\u001b[1;34m'n-type cell with doping level of 2e15'\u001b[0m\u001b[1;33m)\u001b[0m\u001b[1;33m\u001b[0m\u001b[0m\n\u001b[0;32m      7\u001b[0m \u001b[0mni\u001b[0m \u001b[1;33m=\u001b[0m \u001b[0mpv\u001b[0m\u001b[1;33m.\u001b[0m\u001b[0msi\u001b[0m\u001b[1;33m.\u001b[0m\u001b[0mni_misiakos\u001b[0m\u001b[1;33m(\u001b[0m\u001b[1;33m)\u001b[0m\u001b[1;33m\u001b[0m\u001b[0m\n\u001b[1;32m----> 8\u001b[1;33m \u001b[0mn0\u001b[0m\u001b[1;33m,\u001b[0m \u001b[0mp0\u001b[0m \u001b[1;33m=\u001b[0m \u001b[0mpv\u001b[0m\u001b[1;33m.\u001b[0m\u001b[0msi\u001b[0m\u001b[1;33m.\u001b[0m\u001b[0mequilibrium_carrier\u001b[0m\u001b[1;33m(\u001b[0m\u001b[1;36m2e15\u001b[0m\u001b[1;33m,\u001b[0m \u001b[0mni\u001b[0m\u001b[1;33m)\u001b[0m  \u001b[1;31m# n-type dioping at 1e15\u001b[0m\u001b[1;33m\u001b[0m\u001b[0m\n\u001b[0m\u001b[0;32m      9\u001b[0m \u001b[0mprint\u001b[0m\u001b[1;33m(\u001b[0m\u001b[1;34m'Majority n {:.3e}, Minority p: {:.3e}'\u001b[0m\u001b[1;33m.\u001b[0m\u001b[0mformat\u001b[0m\u001b[1;33m(\u001b[0m\u001b[0mn0\u001b[0m\u001b[1;33m,\u001b[0m \u001b[0mp0\u001b[0m\u001b[1;33m)\u001b[0m\u001b[1;33m)\u001b[0m\u001b[1;33m\u001b[0m\u001b[0m\n\u001b[0;32m     10\u001b[0m \u001b[0mdn\u001b[0m \u001b[1;33m=\u001b[0m \u001b[1;36m1e15\u001b[0m\u001b[1;33m\u001b[0m\u001b[0m\n",
      "\u001b[1;31mAttributeError\u001b[0m: module 'photovoltaic.si' has no attribute 'equilibrium_carrier'"
     ]
    }
   ],
   "source": [
    "print('Thermal voltage 25 degC (V):', pv.Vt())  # default is 25degC\n",
    "print('Thermal voltage 300 K (V):', pv.Vt(300))\n",
    "print('Silicon ni at 25 degC {:.3e} cm-3'.format(pv.si.ni_misiakos()))\n",
    "print('Silicon ni at 300 K {:.3e} cm-3'.format(pv.si.ni_misiakos(300)))\n",
    "\n",
    "print('n-type cell with doping level of 2e15')\n",
    "ni = pv.si.ni_misiakos()\n",
    "n0, p0 = pv.si.equilibrium_carrier(2e15, ni)  # n-type dioping at 1e15\n",
    "print('Majority n {:.3e}, Minority p: {:.3e}'.format(n0, p0))\n",
    "dn = 1e15\n",
    "dEc, dEv = pv.si.bandgap_schenk(n0 + dn, p0 + dn, n0, p0, dn)\n",
    "print('BGN Ec: {:.2e} eV, Ev {:.2e} eV'.format(dEc, dEv))\n",
    "\n",
    "print('nieff {:.3e}'.format(pv.n_ieff(n0, p0, 1e15)))\n",
    "B = pv.si.U_radiative_alt(n0, p0, dn)\n",
    "print('radiative: {:.3}'.format(B))\n",
    "print('Mobility of electrons as minority carriers: ', pv.u_Si_e_min(1e15))"
   ]
  },
  {
   "cell_type": "code",
   "execution_count": null,
   "metadata": {},
   "outputs": [],
   "source": []
  }
 ],
 "metadata": {
  "kernelspec": {
   "display_name": "Python 3",
   "language": "python",
   "name": "python3"
  },
  "language_info": {
   "codemirror_mode": {
    "name": "ipython",
    "version": 3
   },
   "file_extension": ".py",
   "mimetype": "text/x-python",
   "name": "python",
   "nbconvert_exporter": "python",
   "pygments_lexer": "ipython3",
   "version": "3.6.2"
  }
 },
 "nbformat": 4,
 "nbformat_minor": 2
}
