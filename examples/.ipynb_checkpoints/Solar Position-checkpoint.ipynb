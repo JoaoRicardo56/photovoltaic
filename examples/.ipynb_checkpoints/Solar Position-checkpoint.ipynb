{
 "cells": [
  {
   "cell_type": "raw",
   "metadata": {},
   "source": []
  },
  {
   "cell_type": "markdown",
   "metadata": {},
   "source": [
    "# Solar Radiation Examples for pveducation.org\n",
    "mainly uses the sun module"
   ]
  },
  {
   "cell_type": "markdown",
   "metadata": {},
   "source": [
    "Do the normal imports"
   ]
  },
  {
   "cell_type": "code",
   "execution_count": 1,
   "metadata": {},
   "outputs": [],
   "source": [
    "import matplotlib.pyplot as plt\n",
    "import numpy as np\n",
    "import photovoltaic as pv"
   ]
  },
  {
   "cell_type": "markdown",
   "metadata": {},
   "source": [
    "## Sun Location"
   ]
  },
  {
   "cell_type": "code",
   "execution_count": 6,
   "metadata": {},
   "outputs": [
    {
     "name": "stdout",
     "output_type": "stream",
     "text": [
      "declination -23.011636727869238\n",
      "Equation of time (min):  -3.705178323396069\n",
      "Time Correction (min):  -43.71\n",
      "Elevation, Azimuth (degrees):  (70.03071775789097, 298.3977969528565)\n",
      "Sun Azimuth and Elevation (degrees) (70.01342676739516, 298.35884675563125)\n",
      "Sunrise, Sunset (hours) (5.618703268603117, 19.838296731396884)\n",
      "Direct light on a module (fraction) 0.3789451951482587\n"
     ]
    }
   ],
   "source": [
    "print('declination',pv.sun.declination(1))\n",
    "print('Equation of time (min): ', pv.sun.equation_of_time(1))\n",
    "print('Time Correction (min): ', pv.sun.time_correction(-3.71,140, 10))\n",
    "print('Elevation, Azimuth (degrees): ', pv.sun.elev_azi(-23.0116367279, -34, 13.27))\n",
    "print('Sun Azimuth and Elevation (degrees)', pv.sun.sun_position(1, -34, 140, 10, 14, 0))\n",
    "print('Sunrise, Sunset (hours)', pv.sun.sun_rise_set(-34, -23.0116367279, -43.71))\n",
    "print('Direct light on a module (fraction)', pv.sun.module_direct(94.7078, 36.9758, 0, 45))"
   ]
  },
  {
   "cell_type": "code",
   "execution_count": null,
   "metadata": {},
   "outputs": [],
   "source": []
  }
 ],
 "metadata": {
  "kernelspec": {
   "display_name": "Python 3",
   "language": "python",
   "name": "python3"
  },
  "language_info": {
   "codemirror_mode": {
    "name": "ipython",
    "version": 3
   },
   "file_extension": ".py",
   "mimetype": "text/x-python",
   "name": "python",
   "nbconvert_exporter": "python",
   "pygments_lexer": "ipython3",
   "version": "3.6.2"
  }
 },
 "nbformat": 4,
 "nbformat_minor": 2
}
